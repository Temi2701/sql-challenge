{
 "cells": [
  {
   "cell_type": "code",
   "execution_count": 18,
   "id": "5cfea794",
   "metadata": {},
   "outputs": [],
   "source": [
    "import sqlite3\n",
    "\n",
    "# Connect to SQLite database \n",
    "connection = sqlite3.connect('sql_challenge.db')\n",
    "\n",
    "# Create a cursor object\n",
    "cursor = connection.cursor()"
   ]
  },
  {
   "cell_type": "code",
   "execution_count": 19,
   "id": "ec8e8c87",
   "metadata": {},
   "outputs": [],
   "source": [
    "# SQL code\n",
    "sql_code = \"\"\"\n",
    "DROP TABLE IF EXISTS departments;\n",
    "DROP TABLE IF EXISTS dept_emp;\n",
    "DROP TABLE IF EXISTS dept_manager;\n",
    "DROP TABLE IF EXISTS employees;\n",
    "DROP TABLE IF EXISTS salaries;\n",
    "DROP TABLE IF EXISTS titles;\n",
    "\n",
    "CREATE TABLE departments (\n",
    "    dept_no varchar PRIMARY KEY NOT NULL,\n",
    "    dept_name varchar NOT NULL\n",
    ");\n",
    "\n",
    "CREATE TABLE titles (\n",
    "    title_id varchar PRIMARY KEY NOT NULL,\n",
    "    title varchar NOT NULL\n",
    ");\n",
    "\n",
    "CREATE TABLE employees (\n",
    "    emp_no int PRIMARY KEY NOT NULL,\n",
    "    emp_title_id varchar NOT NULL,\n",
    "    birth_date varchar NOT NULL,\n",
    "    first_name varchar NOT NULL,\n",
    "    last_name varchar NOT NULL,\n",
    "    sex varchar NOT NULL,\n",
    "    hire_date varchar NOT NULL,\n",
    "    FOREIGN KEY (emp_title_id) REFERENCES titles (title_id)\n",
    ");\n",
    "\n",
    "CREATE TABLE dept_emp (\n",
    "    emp_no int PRIMARY KEY NOT NULL,\n",
    "    dept_no varchar NOT NULL,\n",
    "    FOREIGN KEY (emp_no) REFERENCES employees (emp_no),\n",
    "    FOREIGN KEY (dept_no) REFERENCES departments (dept_no)\n",
    ");\n",
    "\n",
    "CREATE TABLE dept_manager (\n",
    "    emp_no int PRIMARY KEY NOT NULL,\n",
    "    dept_no varchar NOT NULL,\n",
    "    FOREIGN KEY (emp_no) REFERENCES employees (emp_no),\n",
    "    FOREIGN KEY (dept_no) REFERENCES departments (dept_no)\n",
    ");\n",
    "\n",
    "CREATE TABLE salaries (\n",
    "    emp_no int PRIMARY KEY NOT NULL,\n",
    "    salary int NOT NULL,\n",
    "    FOREIGN KEY (emp_no) REFERENCES employees (emp_no)\n",
    ");\n",
    "\"\"\""
   ]
  },
  {
   "cell_type": "code",
   "execution_count": 20,
   "id": "cab91863",
   "metadata": {
    "scrolled": true
   },
   "outputs": [],
   "source": [
    "# Execute the SQL code\n",
    "cursor.executescript(sql_code)\n",
    "\n",
    "# Commit the changes\n",
    "connection.commit()\n",
    "\n",
    "# Close the cursor and connection\n",
    "cursor.close()\n",
    "connection.close()"
   ]
  },
  {
   "cell_type": "code",
   "execution_count": null,
   "id": "ac3ec646",
   "metadata": {},
   "outputs": [],
   "source": []
  }
 ],
 "metadata": {
  "kernelspec": {
   "display_name": "Python 3 (ipykernel)",
   "language": "python",
   "name": "python3"
  },
  "language_info": {
   "codemirror_mode": {
    "name": "ipython",
    "version": 3
   },
   "file_extension": ".py",
   "mimetype": "text/x-python",
   "name": "python",
   "nbconvert_exporter": "python",
   "pygments_lexer": "ipython3",
   "version": "3.11.4"
  }
 },
 "nbformat": 4,
 "nbformat_minor": 5
}
